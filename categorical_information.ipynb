{
 "cells": [
  {
   "cell_type": "code",
   "execution_count": 26,
   "id": "c863438c",
   "metadata": {},
   "outputs": [],
   "source": [
    "import pandas as pd\n",
    "import numpy as np"
   ]
  },
  {
   "cell_type": "code",
   "execution_count": 4,
   "id": "a10eede6",
   "metadata": {},
   "outputs": [],
   "source": [
    "ratings = pd.read_csv('Ratings Clean.csv')"
   ]
  },
  {
   "cell_type": "code",
   "execution_count": 18,
   "id": "e370a605",
   "metadata": {
    "scrolled": true
   },
   "outputs": [
    {
     "data": {
      "text/plain": [
       "6394"
      ]
     },
     "execution_count": 18,
     "metadata": {},
     "output_type": "execute_result"
    }
   ],
   "source": [
    "ratings['votes_10'].nunique()"
   ]
  },
  {
   "cell_type": "code",
   "execution_count": null,
   "id": "f4a180d0",
   "metadata": {},
   "outputs": [],
   "source": []
  },
  {
   "cell_type": "code",
   "execution_count": 45,
   "id": "c3503d3e",
   "metadata": {},
   "outputs": [
    {
     "data": {
      "text/plain": [
       "Index(['imdb_title_id', 'title', 'original_title', 'year', 'date_published',\n",
       "       'genre', 'duration', 'country', 'language', 'director', 'writer',\n",
       "       'production_company', 'actors', 'description', 'avg_vote', 'votes',\n",
       "       'budget', 'usa_gross_income', 'worlwide_gross_income', 'metascore',\n",
       "       'reviews_from_users', 'reviews_from_critics'],\n",
       "      dtype='object')"
      ]
     },
     "execution_count": 45,
     "metadata": {},
     "output_type": "execute_result"
    }
   ],
   "source": [
    "pd.read_csv('IMDb movies.csv').columns"
   ]
  },
  {
   "cell_type": "code",
   "execution_count": 50,
   "id": "a79ac24a",
   "metadata": {},
   "outputs": [],
   "source": [
    "company = pd.read_csv('IMDb movies.csv')['production_company']"
   ]
  },
  {
   "cell_type": "code",
   "execution_count": 52,
   "id": "5324fca3",
   "metadata": {},
   "outputs": [
    {
     "data": {
      "text/plain": [
       "32050"
      ]
     },
     "execution_count": 52,
     "metadata": {},
     "output_type": "execute_result"
    }
   ],
   "source": [
    "company.nunique()"
   ]
  },
  {
   "cell_type": "code",
   "execution_count": 36,
   "id": "9453a896",
   "metadata": {},
   "outputs": [],
   "source": [
    "genres = pd.read_csv('IMDb movies.csv').genre"
   ]
  },
  {
   "cell_type": "code",
   "execution_count": 43,
   "id": "4c0bcdd3",
   "metadata": {},
   "outputs": [
    {
     "data": {
      "text/plain": [
       "array(['Romance', 'Biography, Crime, Drama', 'Drama', ..., 'Drama',\n",
       "       'Drama, Family', 'Drama'], dtype=object)"
      ]
     },
     "execution_count": 43,
     "metadata": {},
     "output_type": "execute_result"
    }
   ],
   "source": [
    "np.array(genres)"
   ]
  },
  {
   "cell_type": "code",
   "execution_count": 28,
   "id": "62d51343",
   "metadata": {},
   "outputs": [
    {
     "data": {
      "text/plain": [
       "85855"
      ]
     },
     "execution_count": 28,
     "metadata": {},
     "output_type": "execute_result"
    }
   ],
   "source": [
    "len(genres)"
   ]
  },
  {
   "cell_type": "code",
   "execution_count": 29,
   "id": "94f64403",
   "metadata": {},
   "outputs": [
    {
     "data": {
      "text/plain": [
       "1257"
      ]
     },
     "execution_count": 29,
     "metadata": {},
     "output_type": "execute_result"
    }
   ],
   "source": [
    "genres.nunique()"
   ]
  }
 ],
 "metadata": {
  "kernelspec": {
   "display_name": "Python 3 (ipykernel)",
   "language": "python",
   "name": "python3"
  },
  "language_info": {
   "codemirror_mode": {
    "name": "ipython",
    "version": 3
   },
   "file_extension": ".py",
   "mimetype": "text/x-python",
   "name": "python",
   "nbconvert_exporter": "python",
   "pygments_lexer": "ipython3",
   "version": "3.8.8"
  }
 },
 "nbformat": 4,
 "nbformat_minor": 5
}
